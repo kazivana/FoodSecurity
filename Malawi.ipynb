{
  "nbformat": 4,
  "nbformat_minor": 0,
  "metadata": {
    "colab": {
      "provenance": [],
      "authorship_tag": "ABX9TyMyOTnsWRtUx1kAYlSIEpCJ",
      "include_colab_link": true
    },
    "kernelspec": {
      "name": "python3",
      "display_name": "Python 3"
    },
    "language_info": {
      "name": "python"
    }
  },
  "cells": [
    {
      "cell_type": "markdown",
      "metadata": {
        "id": "view-in-github",
        "colab_type": "text"
      },
      "source": [
        "<a href=\"https://colab.research.google.com/github/kazivana/FoodSecurity/blob/main/Malawi.ipynb\" target=\"_parent\"><img src=\"https://colab.research.google.com/assets/colab-badge.svg\" alt=\"Open In Colab\"/></a>"
      ]
    },
    {
      "cell_type": "markdown",
      "source": [
        "# Malawi - Food Security Profile\n",
        "\n",
        "## Ranked last by the Global Food Security Index for Affordability\n",
        "\n",
        "#### Affordability: Measures the ability of consumers to purchase food, their vulnerability to price shocks and the presence of programmes and policies to support customers when shocks occur.\n",
        "\n",
        "# Q's:\n",
        "1.   What do people in Malawi mostly eat?\n",
        "2.   where do they get it from?"
      ],
      "metadata": {
        "id": "PMDBEeY5HYhu"
      }
    },
    {
      "cell_type": "markdown",
      "source": [
        "# Installation"
      ],
      "metadata": {
        "id": "gPX_w-BGHcZc"
      }
    },
    {
      "cell_type": "code",
      "execution_count": null,
      "metadata": {
        "id": "4yYwsVwLHUtf"
      },
      "outputs": [],
      "source": [
        "#@title Import packages\n",
        "\n",
        "import pandas as pd\n",
        "import plotly.express as px\n",
        "import matplotlib.pyplot as plt\n",
        "import numpy as np\n",
        "from matplotlib import rc\n",
        "from matplotlib.ticker import FormatStrFormatter\n",
        "from palettable.cmocean.sequential import Haline_3"
      ]
    },
    {
      "cell_type": "markdown",
      "source": [
        "## Load csv files"
      ],
      "metadata": {
        "id": "nrY6gvkxHiJ0"
      }
    },
    {
      "cell_type": "code",
      "source": [
        "#@title Mount google drive in order to import files\n",
        "from google.colab import drive\n",
        "drive.mount('/content/drive')"
      ],
      "metadata": {
        "colab": {
          "base_uri": "https://localhost:8080/"
        },
        "id": "kmtTLpL1Hk9g",
        "outputId": "a33aa83f-8731-463a-f907-b951ab70d0b8"
      },
      "execution_count": null,
      "outputs": [
        {
          "output_type": "stream",
          "name": "stdout",
          "text": [
            "Mounted at /content/drive\n"
          ]
        }
      ]
    },
    {
      "cell_type": "code",
      "source": [
        "# Change this to point to your copy of the csv files\n",
        "kcal_csv_path = '/content/drive/MyDrive/Big_Terra/Malawi_11.05/FAOSTAT_Malawi_kcal.csv'\n",
        "\n",
        "# Change this to point to your copy of the csv files\n",
        "cereals_imports_csv_path = '/content/drive/MyDrive/Big_Terra/Malawi_11.05/FAOSTAT_Malawi_cereals_imports.csv'\n",
        "\n",
        "# Change this to point to your copy of the csv files\n",
        "import_vs_domestic_csv_path = '/content/drive/MyDrive/Big_Terra/Malawi_11.05/FAOSTAT_Malawi_cereals_Import_v_Domestic.csv'\n",
        "\n",
        "# Change this to point to your copy of the csv files\n",
        "trade_csv_path = '/content/drive/MyDrive/Big_Terra/Malawi_11.05/Trade_Map_Malawi_wheat.csv'"
      ],
      "metadata": {
        "id": "T0zWqDfUHm54"
      },
      "execution_count": null,
      "outputs": []
    },
    {
      "cell_type": "code",
      "source": [
        "# Load the kcal/person with food types dataframe\n",
        "kcal_relevant_columns = ['Item', 'Year', 'Value']\n",
        "kcal_df = pd.read_csv(kcal_csv_path, usecols=kcal_relevant_columns)\n",
        "\n",
        "# Load the cereal imports dataframe\n",
        "import_relevant_columns = ['Element', 'Item', 'Year', 'Value']\n",
        "cereals_imports_df = pd.read_csv(cereals_imports_csv_path, usecols=import_relevant_columns)\n",
        "\n",
        "# Load the imported vs domestic supply of cereals dataframe\n",
        "import_vs_domestic_df = pd.read_csv(import_vs_domestic_csv_path)\n",
        "\n",
        "# Load the trade share of imports in five countries dataframe\n",
        "trade_df = pd.read_csv(trade_csv_path)\n"
      ],
      "metadata": {
        "id": "A-lGqIYDHr6g"
      },
      "execution_count": null,
      "outputs": []
    },
    {
      "cell_type": "markdown",
      "source": [
        "# Findings"
      ],
      "metadata": {
        "id": "SVabYhCbHuHx"
      }
    },
    {
      "cell_type": "markdown",
      "source": [
        "## What do people in Malawi eat?"
      ],
      "metadata": {
        "id": "Afgt2mRFHw94"
      }
    },
    {
      "cell_type": "markdown",
      "source": [
        "### Data cleanup"
      ],
      "metadata": {
        "id": "_Wg3WvMhHzfO"
      }
    },
    {
      "cell_type": "code",
      "source": [
        "# Pivot to a wide table\n",
        "kcal_df = kcal_df.pivot_table(index=\"Year\", columns = \"Item\", values=\"Value\", aggfunc='sum')\n",
        "\n",
        "# Remove empty data\n",
        "kcal_df = kcal_df.dropna(axis=1, how='any')"
      ],
      "metadata": {
        "id": "tDlWXAFKH1nP"
      },
      "execution_count": null,
      "outputs": []
    },
    {
      "cell_type": "code",
      "source": [
        "#@title Define cereal and non cereal colums\n",
        "cereal_columns = [\n",
        "    'Barley and products',\n",
        "    'Cereals, Other',\n",
        "    'Maize and products',\n",
        "    'Millet and products',\n",
        "    'Oats',\n",
        "    'Rice and products',\n",
        "    'Rye and products',\n",
        "    'Sorghum and products',\n",
        "    'Wheat and products',\n",
        "    ]\n",
        "non_cereal_columns = [\n",
        "    'Apples and products',\n",
        "    'Aquatic Animals, Others',\n",
        "    'Aquatic Plants',\n",
        "    'Bananas',\n",
        "    'Beans',\n",
        "    'Beer',\n",
        "    'Beverages, Alcoholic',\n",
        "    'Beverages, Fermented',\n",
        "    'Bovine Meat',\n",
        "    'Butter, Ghee',\n",
        "    'Cassava and products',\n",
        "    'Cephalopods',\n",
        "    'Citrus, Other',\n",
        "    'Cloves',\n",
        "    'Cocoa Beans and products',\n",
        "    'Coconut Oil',\n",
        "    'Coconuts - Incl Copra',\n",
        "    'Coffee and products',\n",
        "    'Cottonseed Oil',\n",
        "    'Cream',\n",
        "    'Crustaceans',\n",
        "    'Dates',\n",
        "    'Demersal Fish',\n",
        "    'Eggs',\n",
        "    'Fats, Animals, Raw',\n",
        "    'Fish, Body Oil',\n",
        "    'Fish, Liver Oil',\n",
        "    'Freshwater Fish',\n",
        "    'Fruits, other',\n",
        "    'Grapefruit and products',\n",
        "    'Grapes and products (excl wine)',\n",
        "    'Groundnut Oil',\n",
        "    'Groundnuts',\n",
        "    'Honey',\n",
        "    'Infant food',\n",
        "    'Lemons, Limes and products',\n",
        "    'Maize Germ Oil',\n",
        "    'Marine Fish, Other',\n",
        "    'Meat, Other',\n",
        "    'Milk - Excluding Butter',\n",
        "    'Miscellaneous',\n",
        "    'Molluscs, Other',\n",
        "    'Mutton & Goat Meat',\n",
        "    'Nuts and products',\n",
        "    'Offals, Edible',\n",
        "    'Oilcrops Oil, Other',\n",
        "    'Oilcrops, Other',\n",
        "    'Olive Oil',\n",
        "    'Olives (including preserved)',\n",
        "    'Onions',\n",
        "    'Oranges, Mandarines',\n",
        "    'Palm Oil',\n",
        "    'Palmkernel Oil',\n",
        "    'Peas',\n",
        "    'Pelagic Fish',\n",
        "    'Pepper',\n",
        "    'Pigmeat',\n",
        "    'Pimento',\n",
        "    'Pineapples and products',\n",
        "    'Plantains',\n",
        "    'Potatoes and products',\n",
        "    'Poultry Meat',\n",
        "    'Olive Oil',\n",
        "    'Pulses, Other and products',\n",
        "    'Rape and Mustard Oil',\n",
        "    'Rape and Mustardseed',\n",
        "    'Roots, Other',\n",
        "    'Sesame seed',\n",
        "    'Soyabean Oil',\n",
        "    'Soyabeans',\n",
        "    'Spices, Other',\n",
        "    'Sugar (Raw Equivalent)',\n",
        "    'Sunflowerseed Oil',\n",
        "    'Sweet potatoes',\n",
        "    'Sweeteners, Other',\n",
        "    'Tea (including mate)',\n",
        "    'Tomatoes and products',\n",
        "    'Vegetables, other',\n",
        "    'Wine',\n",
        "    ]"
      ],
      "metadata": {
        "id": "K2bTAIGpH2ro"
      },
      "execution_count": null,
      "outputs": []
    },
    {
      "cell_type": "code",
      "source": [
        "# create Sum columns for Cereals and Other\n",
        "\n",
        "kcal_df['cereals_sum'] = kcal_df[cereal_columns].sum(axis=1)\n",
        "kcal_df['non_cereal_sum'] = kcal_df[non_cereal_columns].sum(axis=1)\n",
        "kcal_df.head()"
      ],
      "metadata": {
        "colab": {
          "base_uri": "https://localhost:8080/",
          "height": 366
        },
        "id": "vDfTnVgfH5sB",
        "outputId": "3b248950-2dce-4240-a837-96b3df81c934"
      },
      "execution_count": null,
      "outputs": [
        {
          "output_type": "execute_result",
          "data": {
            "text/plain": [
              "Item  Apples and products  Aquatic Animals, Others  Aquatic Plants  Bananas  \\\n",
              "Year                                                                          \n",
              "2010                  0.0                      0.0             0.0     41.0   \n",
              "2011                  0.0                      0.0             0.0     39.0   \n",
              "2012                  0.0                      0.0             0.0     37.0   \n",
              "2013                  0.0                      0.0             0.0     37.0   \n",
              "2014                  0.0                      0.0             0.0     36.0   \n",
              "\n",
              "Item  Barley and products  Beans  Beer  Beverages, Alcoholic  \\\n",
              "Year                                                           \n",
              "2010                  2.0   49.0   2.0                   3.0   \n",
              "2011                  1.0   49.0   2.0                   3.0   \n",
              "2012                  1.0   48.0   2.0                   4.0   \n",
              "2013                  1.0   49.0   2.0                   4.0   \n",
              "2014                  1.0   50.0   2.0                   2.0   \n",
              "\n",
              "Item  Beverages, Fermented  Bovine Meat  ...  Sunflowerseed Oil  \\\n",
              "Year                                     ...                      \n",
              "2010                  17.0         12.0  ...                7.0   \n",
              "2011                  17.0         12.0  ...                8.0   \n",
              "2012                  16.0         12.0  ...                7.0   \n",
              "2013                  16.0         10.0  ...                8.0   \n",
              "2014                  18.0         13.0  ...                8.0   \n",
              "\n",
              "Item  Sweet potatoes  Sweeteners, Other  Tea (including mate)  \\\n",
              "Year                                                            \n",
              "2010             0.0                1.0                   0.0   \n",
              "2011             0.0                0.0                   0.0   \n",
              "2012             0.0                0.0                   0.0   \n",
              "2013             0.0                0.0                   0.0   \n",
              "2014           101.0                0.0                   0.0   \n",
              "\n",
              "Item  Tomatoes and products  Vegetables, other  Wheat and products  Wine  \\\n",
              "Year                                                                       \n",
              "2010                    4.0               11.0                88.0   0.0   \n",
              "2011                    4.0               10.0                74.0   0.0   \n",
              "2012                    1.0               10.0                69.0   0.0   \n",
              "2013                    8.0               11.0                92.0   0.0   \n",
              "2014                   16.0               14.0                63.0   0.0   \n",
              "\n",
              "Item  cereals_sum  non_cereal_sum  \n",
              "Year                               \n",
              "2010       1494.0          1079.0  \n",
              "2011       1511.0          1072.0  \n",
              "2012       1542.0          1069.0  \n",
              "2013       1459.0          1152.0  \n",
              "2014       1343.0          1220.0  \n",
              "\n",
              "[5 rows x 89 columns]"
            ],
            "text/html": [
              "\n",
              "  <div id=\"df-7e6e56fa-ec61-4f05-a17f-a1e29a74aa6a\">\n",
              "    <div class=\"colab-df-container\">\n",
              "      <div>\n",
              "<style scoped>\n",
              "    .dataframe tbody tr th:only-of-type {\n",
              "        vertical-align: middle;\n",
              "    }\n",
              "\n",
              "    .dataframe tbody tr th {\n",
              "        vertical-align: top;\n",
              "    }\n",
              "\n",
              "    .dataframe thead th {\n",
              "        text-align: right;\n",
              "    }\n",
              "</style>\n",
              "<table border=\"1\" class=\"dataframe\">\n",
              "  <thead>\n",
              "    <tr style=\"text-align: right;\">\n",
              "      <th>Item</th>\n",
              "      <th>Apples and products</th>\n",
              "      <th>Aquatic Animals, Others</th>\n",
              "      <th>Aquatic Plants</th>\n",
              "      <th>Bananas</th>\n",
              "      <th>Barley and products</th>\n",
              "      <th>Beans</th>\n",
              "      <th>Beer</th>\n",
              "      <th>Beverages, Alcoholic</th>\n",
              "      <th>Beverages, Fermented</th>\n",
              "      <th>Bovine Meat</th>\n",
              "      <th>...</th>\n",
              "      <th>Sunflowerseed Oil</th>\n",
              "      <th>Sweet potatoes</th>\n",
              "      <th>Sweeteners, Other</th>\n",
              "      <th>Tea (including mate)</th>\n",
              "      <th>Tomatoes and products</th>\n",
              "      <th>Vegetables, other</th>\n",
              "      <th>Wheat and products</th>\n",
              "      <th>Wine</th>\n",
              "      <th>cereals_sum</th>\n",
              "      <th>non_cereal_sum</th>\n",
              "    </tr>\n",
              "    <tr>\n",
              "      <th>Year</th>\n",
              "      <th></th>\n",
              "      <th></th>\n",
              "      <th></th>\n",
              "      <th></th>\n",
              "      <th></th>\n",
              "      <th></th>\n",
              "      <th></th>\n",
              "      <th></th>\n",
              "      <th></th>\n",
              "      <th></th>\n",
              "      <th></th>\n",
              "      <th></th>\n",
              "      <th></th>\n",
              "      <th></th>\n",
              "      <th></th>\n",
              "      <th></th>\n",
              "      <th></th>\n",
              "      <th></th>\n",
              "      <th></th>\n",
              "      <th></th>\n",
              "      <th></th>\n",
              "    </tr>\n",
              "  </thead>\n",
              "  <tbody>\n",
              "    <tr>\n",
              "      <th>2010</th>\n",
              "      <td>0.0</td>\n",
              "      <td>0.0</td>\n",
              "      <td>0.0</td>\n",
              "      <td>41.0</td>\n",
              "      <td>2.0</td>\n",
              "      <td>49.0</td>\n",
              "      <td>2.0</td>\n",
              "      <td>3.0</td>\n",
              "      <td>17.0</td>\n",
              "      <td>12.0</td>\n",
              "      <td>...</td>\n",
              "      <td>7.0</td>\n",
              "      <td>0.0</td>\n",
              "      <td>1.0</td>\n",
              "      <td>0.0</td>\n",
              "      <td>4.0</td>\n",
              "      <td>11.0</td>\n",
              "      <td>88.0</td>\n",
              "      <td>0.0</td>\n",
              "      <td>1494.0</td>\n",
              "      <td>1079.0</td>\n",
              "    </tr>\n",
              "    <tr>\n",
              "      <th>2011</th>\n",
              "      <td>0.0</td>\n",
              "      <td>0.0</td>\n",
              "      <td>0.0</td>\n",
              "      <td>39.0</td>\n",
              "      <td>1.0</td>\n",
              "      <td>49.0</td>\n",
              "      <td>2.0</td>\n",
              "      <td>3.0</td>\n",
              "      <td>17.0</td>\n",
              "      <td>12.0</td>\n",
              "      <td>...</td>\n",
              "      <td>8.0</td>\n",
              "      <td>0.0</td>\n",
              "      <td>0.0</td>\n",
              "      <td>0.0</td>\n",
              "      <td>4.0</td>\n",
              "      <td>10.0</td>\n",
              "      <td>74.0</td>\n",
              "      <td>0.0</td>\n",
              "      <td>1511.0</td>\n",
              "      <td>1072.0</td>\n",
              "    </tr>\n",
              "    <tr>\n",
              "      <th>2012</th>\n",
              "      <td>0.0</td>\n",
              "      <td>0.0</td>\n",
              "      <td>0.0</td>\n",
              "      <td>37.0</td>\n",
              "      <td>1.0</td>\n",
              "      <td>48.0</td>\n",
              "      <td>2.0</td>\n",
              "      <td>4.0</td>\n",
              "      <td>16.0</td>\n",
              "      <td>12.0</td>\n",
              "      <td>...</td>\n",
              "      <td>7.0</td>\n",
              "      <td>0.0</td>\n",
              "      <td>0.0</td>\n",
              "      <td>0.0</td>\n",
              "      <td>1.0</td>\n",
              "      <td>10.0</td>\n",
              "      <td>69.0</td>\n",
              "      <td>0.0</td>\n",
              "      <td>1542.0</td>\n",
              "      <td>1069.0</td>\n",
              "    </tr>\n",
              "    <tr>\n",
              "      <th>2013</th>\n",
              "      <td>0.0</td>\n",
              "      <td>0.0</td>\n",
              "      <td>0.0</td>\n",
              "      <td>37.0</td>\n",
              "      <td>1.0</td>\n",
              "      <td>49.0</td>\n",
              "      <td>2.0</td>\n",
              "      <td>4.0</td>\n",
              "      <td>16.0</td>\n",
              "      <td>10.0</td>\n",
              "      <td>...</td>\n",
              "      <td>8.0</td>\n",
              "      <td>0.0</td>\n",
              "      <td>0.0</td>\n",
              "      <td>0.0</td>\n",
              "      <td>8.0</td>\n",
              "      <td>11.0</td>\n",
              "      <td>92.0</td>\n",
              "      <td>0.0</td>\n",
              "      <td>1459.0</td>\n",
              "      <td>1152.0</td>\n",
              "    </tr>\n",
              "    <tr>\n",
              "      <th>2014</th>\n",
              "      <td>0.0</td>\n",
              "      <td>0.0</td>\n",
              "      <td>0.0</td>\n",
              "      <td>36.0</td>\n",
              "      <td>1.0</td>\n",
              "      <td>50.0</td>\n",
              "      <td>2.0</td>\n",
              "      <td>2.0</td>\n",
              "      <td>18.0</td>\n",
              "      <td>13.0</td>\n",
              "      <td>...</td>\n",
              "      <td>8.0</td>\n",
              "      <td>101.0</td>\n",
              "      <td>0.0</td>\n",
              "      <td>0.0</td>\n",
              "      <td>16.0</td>\n",
              "      <td>14.0</td>\n",
              "      <td>63.0</td>\n",
              "      <td>0.0</td>\n",
              "      <td>1343.0</td>\n",
              "      <td>1220.0</td>\n",
              "    </tr>\n",
              "  </tbody>\n",
              "</table>\n",
              "<p>5 rows × 89 columns</p>\n",
              "</div>\n",
              "      <button class=\"colab-df-convert\" onclick=\"convertToInteractive('df-7e6e56fa-ec61-4f05-a17f-a1e29a74aa6a')\"\n",
              "              title=\"Convert this dataframe to an interactive table.\"\n",
              "              style=\"display:none;\">\n",
              "        \n",
              "  <svg xmlns=\"http://www.w3.org/2000/svg\" height=\"24px\"viewBox=\"0 0 24 24\"\n",
              "       width=\"24px\">\n",
              "    <path d=\"M0 0h24v24H0V0z\" fill=\"none\"/>\n",
              "    <path d=\"M18.56 5.44l.94 2.06.94-2.06 2.06-.94-2.06-.94-.94-2.06-.94 2.06-2.06.94zm-11 1L8.5 8.5l.94-2.06 2.06-.94-2.06-.94L8.5 2.5l-.94 2.06-2.06.94zm10 10l.94 2.06.94-2.06 2.06-.94-2.06-.94-.94-2.06-.94 2.06-2.06.94z\"/><path d=\"M17.41 7.96l-1.37-1.37c-.4-.4-.92-.59-1.43-.59-.52 0-1.04.2-1.43.59L10.3 9.45l-7.72 7.72c-.78.78-.78 2.05 0 2.83L4 21.41c.39.39.9.59 1.41.59.51 0 1.02-.2 1.41-.59l7.78-7.78 2.81-2.81c.8-.78.8-2.07 0-2.86zM5.41 20L4 18.59l7.72-7.72 1.47 1.35L5.41 20z\"/>\n",
              "  </svg>\n",
              "      </button>\n",
              "      \n",
              "  <style>\n",
              "    .colab-df-container {\n",
              "      display:flex;\n",
              "      flex-wrap:wrap;\n",
              "      gap: 12px;\n",
              "    }\n",
              "\n",
              "    .colab-df-convert {\n",
              "      background-color: #E8F0FE;\n",
              "      border: none;\n",
              "      border-radius: 50%;\n",
              "      cursor: pointer;\n",
              "      display: none;\n",
              "      fill: #1967D2;\n",
              "      height: 32px;\n",
              "      padding: 0 0 0 0;\n",
              "      width: 32px;\n",
              "    }\n",
              "\n",
              "    .colab-df-convert:hover {\n",
              "      background-color: #E2EBFA;\n",
              "      box-shadow: 0px 1px 2px rgba(60, 64, 67, 0.3), 0px 1px 3px 1px rgba(60, 64, 67, 0.15);\n",
              "      fill: #174EA6;\n",
              "    }\n",
              "\n",
              "    [theme=dark] .colab-df-convert {\n",
              "      background-color: #3B4455;\n",
              "      fill: #D2E3FC;\n",
              "    }\n",
              "\n",
              "    [theme=dark] .colab-df-convert:hover {\n",
              "      background-color: #434B5C;\n",
              "      box-shadow: 0px 1px 3px 1px rgba(0, 0, 0, 0.15);\n",
              "      filter: drop-shadow(0px 1px 2px rgba(0, 0, 0, 0.3));\n",
              "      fill: #FFFFFF;\n",
              "    }\n",
              "  </style>\n",
              "\n",
              "      <script>\n",
              "        const buttonEl =\n",
              "          document.querySelector('#df-7e6e56fa-ec61-4f05-a17f-a1e29a74aa6a button.colab-df-convert');\n",
              "        buttonEl.style.display =\n",
              "          google.colab.kernel.accessAllowed ? 'block' : 'none';\n",
              "\n",
              "        async function convertToInteractive(key) {\n",
              "          const element = document.querySelector('#df-7e6e56fa-ec61-4f05-a17f-a1e29a74aa6a');\n",
              "          const dataTable =\n",
              "            await google.colab.kernel.invokeFunction('convertToInteractive',\n",
              "                                                     [key], {});\n",
              "          if (!dataTable) return;\n",
              "\n",
              "          const docLinkHtml = 'Like what you see? Visit the ' +\n",
              "            '<a target=\"_blank\" href=https://colab.research.google.com/notebooks/data_table.ipynb>data table notebook</a>'\n",
              "            + ' to learn more about interactive tables.';\n",
              "          element.innerHTML = '';\n",
              "          dataTable['output_type'] = 'display_data';\n",
              "          await google.colab.output.renderOutput(dataTable, element);\n",
              "          const docLink = document.createElement('div');\n",
              "          docLink.innerHTML = docLinkHtml;\n",
              "          element.appendChild(docLink);\n",
              "        }\n",
              "      </script>\n",
              "    </div>\n",
              "  </div>\n",
              "  "
            ]
          },
          "metadata": {},
          "execution_count": 7
        }
      ]
    },
    {
      "cell_type": "markdown",
      "source": [
        "### Visualisation 1:\n",
        "#### Share of daily kcal/person from cereal crops"
      ],
      "metadata": {
        "id": "irn4mKRvH7hR"
      }
    },
    {
      "cell_type": "code",
      "source": [
        "# Define values and labels\n",
        "values = [kcal_df['cereals_sum'].sum(), kcal_df['non_cereal_sum'].sum()]\n",
        "labels = ['Cereals', 'Others']\n",
        "\n",
        "# Add data source credit\n",
        "plt.figtext(\n",
        "    0.62,\n",
        "    0.1,\n",
        "    'Source of data: FAOSTAT',\n",
        "    fontsize=10,\n",
        "    color='gray',\n",
        "    )\n",
        "\n",
        "# Add title\n",
        "plt.title('Share of daily kcal from cereal crops')\n",
        "\n",
        "# Adjust plot size\n",
        "plt.rcParams['figure.figsize'] = [20, 10]\n",
        "\n",
        "# Add circle in the center to transform it into a doghnut chart\n",
        "my_circle = plt.Circle( (0,0), 0.5, color='white')\n",
        "p=plt.gcf()\n",
        "p.gca().add_artist(my_circle)\n",
        "\n",
        "# Create and show a pieplot\n",
        "plt.pie(values, labels=labels, wedgeprops={'linewidth': 7,\n",
        "        'edgecolor': 'white'}, colors=Haline_3.hex_colors)\n",
        "plt.show()"
      ],
      "metadata": {
        "colab": {
          "base_uri": "https://localhost:8080/",
          "height": 274
        },
        "id": "x9u4BqGyH-Mz",
        "outputId": "48ea3dba-5fe7-4660-a968-964b24954a62"
      },
      "execution_count": null,
      "outputs": [
        {
          "output_type": "display_data",
          "data": {
            "text/plain": [
              "<Figure size 432x288 with 1 Axes>"
            ],
            "image/png": "[encoded data removed]"
          },
          "metadata": {}
        }
      ]
    },
    {
      "cell_type": "markdown",
      "source": [
        "### Visualisation 2:\n",
        "#### Share of daily kcal/person from each major cereal crop"
      ],
      "metadata": {
        "id": "T9bIB-z4IAWS"
      }
    },
    {
      "cell_type": "code",
      "source": [
        "# Define values and labels\n",
        "values = [kcal_df['Wheat and products'].sum(),\n",
        "          kcal_df['Maize and products'].sum(),\n",
        "          kcal_df['Rice and products'].sum()]\n",
        "labels = ['Wheat', 'Maize', 'Rice']\n",
        "\n",
        "# Add data source credit\n",
        "plt.figtext(0.62, 0.1, 'Source of data: FAOSTAT', fontsize=10,\n",
        "            color='gray')\n",
        "\n",
        "# Add title\n",
        "plt.title('Share of daily kcal per cereal crop')\n",
        "\n",
        "# Adjust plot size\n",
        "plt.rcParams['figure.figsize'] = [20, 10]\n",
        "\n",
        "# Add a circle at the center to transform it in a donut chart\n",
        "middle_circle = plt.Circle((0, 0), 0.5, color='white')\n",
        "current_figure = plt.gcf()\n",
        "current_figure.gca().add_artist(middle_circle)\n",
        "\n",
        "# Create and show a pieplot\n",
        "plt.pie(values, labels=labels, wedgeprops={'linewidth': 7,\n",
        "        'edgecolor': 'white'}, colors=Haline_3.hex_colors)\n",
        "plt.show()"
      ],
      "metadata": {
        "colab": {
          "base_uri": "https://localhost:8080/",
          "height": 611
        },
        "id": "voVdstp3ICql",
        "outputId": "15069c84-5844-4f91-fe15-cdb240f3b6fe"
      },
      "execution_count": null,
      "outputs": [
        {
          "output_type": "display_data",
          "data": {
            "text/plain": [
              "<Figure size 1440x720 with 1 Axes>"
            ],
            "image/png": "[encoded data removed]"
          },
          "metadata": {}
        }
      ]
    },
    {
      "cell_type": "code",
      "source": [
        "kcal_df['Maize and products'].sum()"
      ],
      "metadata": {
        "colab": {
          "base_uri": "https://localhost:8080/"
        },
        "id": "xOdSeIewjDnV",
        "outputId": "fa08d5f2-7c3b-4bd3-8bc8-4ada03f0ea02"
      },
      "execution_count": null,
      "outputs": [
        {
          "output_type": "execute_result",
          "data": {
            "text/plain": [
              "12462.0"
            ]
          },
          "metadata": {},
          "execution_count": 10
        }
      ]
    },
    {
      "cell_type": "code",
      "source": [
        "kcal_df['Wheat and products'].sum()"
      ],
      "metadata": {
        "colab": {
          "base_uri": "https://localhost:8080/"
        },
        "id": "JU1s_A1yjYCo",
        "outputId": "e6cc698e-4918-404d-86ff-71c8702eb99a"
      },
      "execution_count": null,
      "outputs": [
        {
          "output_type": "execute_result",
          "data": {
            "text/plain": [
              "755.0"
            ]
          },
          "metadata": {},
          "execution_count": 11
        }
      ]
    },
    {
      "cell_type": "code",
      "source": [
        "kcal_df['Rice and products'].sum()"
      ],
      "metadata": {
        "id": "W_ctluyNjbTq",
        "outputId": "59721535-1008-4656-9a43-d1dcf18cd26b",
        "colab": {
          "base_uri": "https://localhost:8080/"
        }
      },
      "execution_count": null,
      "outputs": [
        {
          "output_type": "execute_result",
          "data": {
            "text/plain": [
              "447.0"
            ]
          },
          "metadata": {},
          "execution_count": 12
        }
      ]
    },
    {
      "cell_type": "markdown",
      "source": [
        "## The state of Malawi's cereal imports"
      ],
      "metadata": {
        "id": "3p_S9cIcIE69"
      }
    },
    {
      "cell_type": "markdown",
      "source": [
        "### Data cleanup"
      ],
      "metadata": {
        "id": "uydKsNXpIKGM"
      }
    },
    {
      "cell_type": "code",
      "source": [
        "# Only keep quantities in tonnes and not the dollar value\n",
        "imports_df = cereals_imports_df[cereals_imports_df.Element != \"Import Value\"]\n",
        "\n",
        "# pivot to wide table\n",
        "imports_df = imports_df.pivot_table(index=\"Year\", columns = \"Item\", values=\"Value\", aggfunc='sum')\n",
        "\n",
        "# Add Year as a separate column\n",
        "imports_df[\"Year\"] = imports_df.index\n",
        "\n",
        "# Shortening timespand to most recent 10 years\n",
        "imports_df = imports_df[imports_df.Year >= 2010]"
      ],
      "metadata": {
        "id": "VGn9K9qVIH97"
      },
      "execution_count": null,
      "outputs": []
    },
    {
      "cell_type": "code",
      "source": [
        "#@title Define wheat, maize and rice columns\n",
        "\n",
        "# define wheat columns\n",
        "wheat_columns = ['Wheat',\n",
        "                 'Flour, wheat']\n",
        "\n",
        "# define maize columns\n",
        "maize_columns = ['Flour, maize',\n",
        "                 'Maize']\n",
        "\n",
        "# define rice columns\n",
        "rice_columns = ['Rice, broken',\n",
        "                'Rice, husked',\n",
        "                'Rice, milled',\n",
        "                'Rice, paddy',\n",
        "                'Rice, paddy (rice milled equivalent)']"
      ],
      "metadata": {
        "cellView": "form",
        "id": "Slat4xiIIGxB"
      },
      "execution_count": null,
      "outputs": []
    },
    {
      "cell_type": "code",
      "source": [
        "# Create sum columns for Wheat, Maize and Rice\n",
        "imports_df['wheat_sum'] = imports_df[wheat_columns].sum(axis=1)\n",
        "imports_df['maize_sum'] = imports_df[maize_columns].sum(axis=1)\n",
        "imports_df['rice_sum'] = imports_df[rice_columns].sum(axis=1)"
      ],
      "metadata": {
        "id": "uI1EESA_IQUL"
      },
      "execution_count": null,
      "outputs": []
    },
    {
      "cell_type": "code",
      "source": [
        "# Drop all other columns\n",
        "imports_df = imports_df.drop(imports_df.columns[0:17], axis = 1)\n",
        "imports_df"
      ],
      "metadata": {
        "colab": {
          "base_uri": "https://localhost:8080/",
          "height": 426
        },
        "id": "fE3HNmZxIRDg",
        "outputId": "d3b5785c-4ef9-40db-e715-d9fceb009c08"
      },
      "execution_count": null,
      "outputs": [
        {
          "output_type": "execute_result",
          "data": {
            "text/plain": [
              "Item  Year  wheat_sum  maize_sum  rice_sum\n",
              "Year                                      \n",
              "2010  2010   181214.0    15444.0    1514.0\n",
              "2011  2011   162418.0     6116.0     641.0\n",
              "2012  2012   151046.0       12.0    7122.0\n",
              "2013  2013   192858.0    60700.0    1957.0\n",
              "2014  2014   162803.0    32290.0     644.0\n",
              "2015  2015   227039.0   105110.0    1456.0\n",
              "2016  2016   150408.0   326964.0   17719.0\n",
              "2017  2017   183960.0    46308.0    2048.0\n",
              "2018  2018   143406.0     6465.0    7441.0\n",
              "2019  2019   119815.0     5515.0   12423.0\n",
              "2020  2020   130211.0    25404.0    4862.0"
            ],
            "text/html": [
              "\n",
              "  <div id=\"df-5f8a53f2-d8d5-4b08-854c-1f419db74fc9\">\n",
              "    <div class=\"colab-df-container\">\n",
              "      <div>\n",
              "<style scoped>\n",
              "    .dataframe tbody tr th:only-of-type {\n",
              "        vertical-align: middle;\n",
              "    }\n",
              "\n",
              "    .dataframe tbody tr th {\n",
              "        vertical-align: top;\n",
              "    }\n",
              "\n",
              "    .dataframe thead th {\n",
              "        text-align: right;\n",
              "    }\n",
              "</style>\n",
              "<table border=\"1\" class=\"dataframe\">\n",
              "  <thead>\n",
              "    <tr style=\"text-align: right;\">\n",
              "      <th>Item</th>\n",
              "      <th>Year</th>\n",
              "      <th>wheat_sum</th>\n",
              "      <th>maize_sum</th>\n",
              "      <th>rice_sum</th>\n",
              "    </tr>\n",
              "    <tr>\n",
              "      <th>Year</th>\n",
              "      <th></th>\n",
              "      <th></th>\n",
              "      <th></th>\n",
              "      <th></th>\n",
              "    </tr>\n",
              "  </thead>\n",
              "  <tbody>\n",
              "    <tr>\n",
              "      <th>2010</th>\n",
              "      <td>2010</td>\n",
              "      <td>181214.0</td>\n",
              "      <td>15444.0</td>\n",
              "      <td>1514.0</td>\n",
              "    </tr>\n",
              "    <tr>\n",
              "      <th>2011</th>\n",
              "      <td>2011</td>\n",
              "      <td>162418.0</td>\n",
              "      <td>6116.0</td>\n",
              "      <td>641.0</td>\n",
              "    </tr>\n",
              "    <tr>\n",
              "      <th>2012</th>\n",
              "      <td>2012</td>\n",
              "      <td>151046.0</td>\n",
              "      <td>12.0</td>\n",
              "      <td>7122.0</td>\n",
              "    </tr>\n",
              "    <tr>\n",
              "      <th>2013</th>\n",
              "      <td>2013</td>\n",
              "      <td>192858.0</td>\n",
              "      <td>60700.0</td>\n",
              "      <td>1957.0</td>\n",
              "    </tr>\n",
              "    <tr>\n",
              "      <th>2014</th>\n",
              "      <td>2014</td>\n",
              "      <td>162803.0</td>\n",
              "      <td>32290.0</td>\n",
              "      <td>644.0</td>\n",
              "    </tr>\n",
              "    <tr>\n",
              "      <th>2015</th>\n",
              "      <td>2015</td>\n",
              "      <td>227039.0</td>\n",
              "      <td>105110.0</td>\n",
              "      <td>1456.0</td>\n",
              "    </tr>\n",
              "    <tr>\n",
              "      <th>2016</th>\n",
              "      <td>2016</td>\n",
              "      <td>150408.0</td>\n",
              "      <td>326964.0</td>\n",
              "      <td>17719.0</td>\n",
              "    </tr>\n",
              "    <tr>\n",
              "      <th>2017</th>\n",
              "      <td>2017</td>\n",
              "      <td>183960.0</td>\n",
              "      <td>46308.0</td>\n",
              "      <td>2048.0</td>\n",
              "    </tr>\n",
              "    <tr>\n",
              "      <th>2018</th>\n",
              "      <td>2018</td>\n",
              "      <td>143406.0</td>\n",
              "      <td>6465.0</td>\n",
              "      <td>7441.0</td>\n",
              "    </tr>\n",
              "    <tr>\n",
              "      <th>2019</th>\n",
              "      <td>2019</td>\n",
              "      <td>119815.0</td>\n",
              "      <td>5515.0</td>\n",
              "      <td>12423.0</td>\n",
              "    </tr>\n",
              "    <tr>\n",
              "      <th>2020</th>\n",
              "      <td>2020</td>\n",
              "      <td>130211.0</td>\n",
              "      <td>25404.0</td>\n",
              "      <td>4862.0</td>\n",
              "    </tr>\n",
              "  </tbody>\n",
              "</table>\n",
              "</div>\n",
              "      <button class=\"colab-df-convert\" onclick=\"convertToInteractive('df-5f8a53f2-d8d5-4b08-854c-1f419db74fc9')\"\n",
              "              title=\"Convert this dataframe to an interactive table.\"\n",
              "              style=\"display:none;\">\n",
              "        \n",
              "  <svg xmlns=\"http://www.w3.org/2000/svg\" height=\"24px\"viewBox=\"0 0 24 24\"\n",
              "       width=\"24px\">\n",
              "    <path d=\"M0 0h24v24H0V0z\" fill=\"none\"/>\n",
              "    <path d=\"M18.56 5.44l.94 2.06.94-2.06 2.06-.94-2.06-.94-.94-2.06-.94 2.06-2.06.94zm-11 1L8.5 8.5l.94-2.06 2.06-.94-2.06-.94L8.5 2.5l-.94 2.06-2.06.94zm10 10l.94 2.06.94-2.06 2.06-.94-2.06-.94-.94-2.06-.94 2.06-2.06.94z\"/><path d=\"M17.41 7.96l-1.37-1.37c-.4-.4-.92-.59-1.43-.59-.52 0-1.04.2-1.43.59L10.3 9.45l-7.72 7.72c-.78.78-.78 2.05 0 2.83L4 21.41c.39.39.9.59 1.41.59.51 0 1.02-.2 1.41-.59l7.78-7.78 2.81-2.81c.8-.78.8-2.07 0-2.86zM5.41 20L4 18.59l7.72-7.72 1.47 1.35L5.41 20z\"/>\n",
              "  </svg>\n",
              "      </button>\n",
              "      \n",
              "  <style>\n",
              "    .colab-df-container {\n",
              "      display:flex;\n",
              "      flex-wrap:wrap;\n",
              "      gap: 12px;\n",
              "    }\n",
              "\n",
              "    .colab-df-convert {\n",
              "      background-color: #E8F0FE;\n",
              "      border: none;\n",
              "      border-radius: 50%;\n",
              "      cursor: pointer;\n",
              "      display: none;\n",
              "      fill: #1967D2;\n",
              "      height: 32px;\n",
              "      padding: 0 0 0 0;\n",
              "      width: 32px;\n",
              "    }\n",
              "\n",
              "    .colab-df-convert:hover {\n",
              "      background-color: #E2EBFA;\n",
              "      box-shadow: 0px 1px 2px rgba(60, 64, 67, 0.3), 0px 1px 3px 1px rgba(60, 64, 67, 0.15);\n",
              "      fill: #174EA6;\n",
              "    }\n",
              "\n",
              "    [theme=dark] .colab-df-convert {\n",
              "      background-color: #3B4455;\n",
              "      fill: #D2E3FC;\n",
              "    }\n",
              "\n",
              "    [theme=dark] .colab-df-convert:hover {\n",
              "      background-color: #434B5C;\n",
              "      box-shadow: 0px 1px 3px 1px rgba(0, 0, 0, 0.15);\n",
              "      filter: drop-shadow(0px 1px 2px rgba(0, 0, 0, 0.3));\n",
              "      fill: #FFFFFF;\n",
              "    }\n",
              "  </style>\n",
              "\n",
              "      <script>\n",
              "        const buttonEl =\n",
              "          document.querySelector('#df-5f8a53f2-d8d5-4b08-854c-1f419db74fc9 button.colab-df-convert');\n",
              "        buttonEl.style.display =\n",
              "          google.colab.kernel.accessAllowed ? 'block' : 'none';\n",
              "\n",
              "        async function convertToInteractive(key) {\n",
              "          const element = document.querySelector('#df-5f8a53f2-d8d5-4b08-854c-1f419db74fc9');\n",
              "          const dataTable =\n",
              "            await google.colab.kernel.invokeFunction('convertToInteractive',\n",
              "                                                     [key], {});\n",
              "          if (!dataTable) return;\n",
              "\n",
              "          const docLinkHtml = 'Like what you see? Visit the ' +\n",
              "            '<a target=\"_blank\" href=https://colab.research.google.com/notebooks/data_table.ipynb>data table notebook</a>'\n",
              "            + ' to learn more about interactive tables.';\n",
              "          element.innerHTML = '';\n",
              "          dataTable['output_type'] = 'display_data';\n",
              "          await google.colab.output.renderOutput(dataTable, element);\n",
              "          const docLink = document.createElement('div');\n",
              "          docLink.innerHTML = docLinkHtml;\n",
              "          element.appendChild(docLink);\n",
              "        }\n",
              "      </script>\n",
              "    </div>\n",
              "  </div>\n",
              "  "
            ]
          },
          "metadata": {},
          "execution_count": 14
        }
      ]
    },
    {
      "cell_type": "markdown",
      "source": [
        "### Visualisation 3:\n",
        "#### Malawi's cereal crop imports"
      ],
      "metadata": {
        "id": "znUnxGDlISiO"
      }
    },
    {
      "cell_type": "code",
      "source": [
        "# y-axis in bold\n",
        "rc('font', weight='bold')\n",
        "\n",
        "# Values of each group\n",
        "bars1 = imports_df[\"wheat_sum\"]/1000\n",
        "bars2 = imports_df[\"maize_sum\"]/1000\n",
        "bars3 = imports_df[\"rice_sum\"]/1000\n",
        "\n",
        "# Heights of bars1 + bars2\n",
        "bars = np.add(bars1, bars2).tolist()\n",
        "\n",
        "# The position of the bars on the x-axis\n",
        "r = imports_df[\"Year\"]\n",
        "\n",
        "# Names of group and bar width\n",
        "names = ['2010','','2012','','2014','','2016', '','2018', '', '2020']\n",
        "barWidth = 1\n",
        "\n",
        "# Create dark blue bars\n",
        "plt.bar(r, bars1, color='#22223b', edgecolor='white', width=barWidth)\n",
        "# Create blue gray bars (middle), on top of the first ones\n",
        "plt.bar(r, bars2, bottom=bars1, color='#4a4e69', edgecolor='white', width=barWidth)\n",
        "# Create dark gray bars (top)\n",
        "plt.bar(r, bars3, bottom=bars, color='#9a8c98', edgecolor='white', width=barWidth)\n",
        "\n",
        "# Custom X axis\n",
        "plt.xticks(r, names, fontweight='bold')\n",
        "plt.ylabel('Qty (1000 tonnes)')\n",
        "plt.title('Malawi Cereal Imports')\n",
        "\n",
        "colors = {'Rice':'#9a8c98','Maize':'#4a4e69','Wheat':'#22223b'}\n",
        "labels = [\"Rice\", \"Maize\", \"Wheat\"]\n",
        "handles = [plt.Rectangle((0,0),1,1, color=colors[label]) for label in labels]\n",
        "plt.legend(handles, labels)\n",
        "\n",
        "# Add data source credit\n",
        "plt.figtext(0.9, 0.01,\n",
        "            \"Source of data: FAOSTAT\",\n",
        "            ha=\"right\",\n",
        "            fontsize=10,\n",
        "            color='gray')\n",
        "\n",
        "# Adjust size\n",
        "plt.rcParams[\"figure.figsize\"] = [20,10]\n",
        "\n",
        "# Show graphic\n",
        "plt.show()"
      ],
      "metadata": {
        "colab": {
          "base_uri": "https://localhost:8080/",
          "height": 675
        },
        "id": "o6LnEfdmIVmi",
        "outputId": "adea8e57-bd4e-4852-d2cb-398647daecb3"
      },
      "execution_count": null,
      "outputs": [
        {
          "output_type": "display_data",
          "data": {
            "text/plain": [
              "<Figure size 1440x720 with 1 Axes>"
            ],
            "image/png": "[encoded data removed]"
          },
          "metadata": {
            "needs_background": "light"
          }
        }
      ]
    },
    {
      "cell_type": "markdown",
      "source": [
        "## Domestic vs Imported Supply of Wheat\n",
        "### Wheat has the highest share of imports"
      ],
      "metadata": {
        "id": "-4suox7TIXsM"
      }
    },
    {
      "cell_type": "markdown",
      "source": [
        "### Data cleanup"
      ],
      "metadata": {
        "id": "luYNLrSPIZid"
      }
    },
    {
      "cell_type": "code",
      "source": [
        "# Separating wheat for visualisation\n",
        "wheat_supply_df = import_vs_domestic_df[import_vs_domestic_df.Item == \"Wheat and products\"]\n",
        "\n",
        "# Pivot to wide table\n",
        "wheat_supply_df = wheat_supply_df.pivot(index=\"Year\", columns=\"Element\", values=\"Value\")\n",
        "\n",
        "# Add Year as a column\n",
        "wheat_supply_df[\"Year\"] = wheat_supply_df.index\n",
        "wheat_supply_df.head()"
      ],
      "metadata": {
        "colab": {
          "base_uri": "https://localhost:8080/",
          "height": 238
        },
        "id": "F0N0QO34Ibh-",
        "outputId": "fe9d114d-2966-4ea0-9922-15b7b68e52ec"
      },
      "execution_count": null,
      "outputs": [
        {
          "output_type": "execute_result",
          "data": {
            "text/plain": [
              "Element  Domestic supply quantity  Import Quantity  Year\n",
              "Year                                                    \n",
              "2010                          170              185  2010\n",
              "2011                          148              164  2011\n",
              "2012                          142              152  2012\n",
              "2013                          194              194  2013\n",
              "2014                          136              165  2014"
            ],
            "text/html": [
              "\n",
              "  <div id=\"df-6714c6e4-a40e-478a-b478-3b6dc7d4ec06\">\n",
              "    <div class=\"colab-df-container\">\n",
              "      <div>\n",
              "<style scoped>\n",
              "    .dataframe tbody tr th:only-of-type {\n",
              "        vertical-align: middle;\n",
              "    }\n",
              "\n",
              "    .dataframe tbody tr th {\n",
              "        vertical-align: top;\n",
              "    }\n",
              "\n",
              "    .dataframe thead th {\n",
              "        text-align: right;\n",
              "    }\n",
              "</style>\n",
              "<table border=\"1\" class=\"dataframe\">\n",
              "  <thead>\n",
              "    <tr style=\"text-align: right;\">\n",
              "      <th>Element</th>\n",
              "      <th>Domestic supply quantity</th>\n",
              "      <th>Import Quantity</th>\n",
              "      <th>Year</th>\n",
              "    </tr>\n",
              "    <tr>\n",
              "      <th>Year</th>\n",
              "      <th></th>\n",
              "      <th></th>\n",
              "      <th></th>\n",
              "    </tr>\n",
              "  </thead>\n",
              "  <tbody>\n",
              "    <tr>\n",
              "      <th>2010</th>\n",
              "      <td>170</td>\n",
              "      <td>185</td>\n",
              "      <td>2010</td>\n",
              "    </tr>\n",
              "    <tr>\n",
              "      <th>2011</th>\n",
              "      <td>148</td>\n",
              "      <td>164</td>\n",
              "      <td>2011</td>\n",
              "    </tr>\n",
              "    <tr>\n",
              "      <th>2012</th>\n",
              "      <td>142</td>\n",
              "      <td>152</td>\n",
              "      <td>2012</td>\n",
              "    </tr>\n",
              "    <tr>\n",
              "      <th>2013</th>\n",
              "      <td>194</td>\n",
              "      <td>194</td>\n",
              "      <td>2013</td>\n",
              "    </tr>\n",
              "    <tr>\n",
              "      <th>2014</th>\n",
              "      <td>136</td>\n",
              "      <td>165</td>\n",
              "      <td>2014</td>\n",
              "    </tr>\n",
              "  </tbody>\n",
              "</table>\n",
              "</div>\n",
              "      <button class=\"colab-df-convert\" onclick=\"convertToInteractive('df-6714c6e4-a40e-478a-b478-3b6dc7d4ec06')\"\n",
              "              title=\"Convert this dataframe to an interactive table.\"\n",
              "              style=\"display:none;\">\n",
              "        \n",
              "  <svg xmlns=\"http://www.w3.org/2000/svg\" height=\"24px\"viewBox=\"0 0 24 24\"\n",
              "       width=\"24px\">\n",
              "    <path d=\"M0 0h24v24H0V0z\" fill=\"none\"/>\n",
              "    <path d=\"M18.56 5.44l.94 2.06.94-2.06 2.06-.94-2.06-.94-.94-2.06-.94 2.06-2.06.94zm-11 1L8.5 8.5l.94-2.06 2.06-.94-2.06-.94L8.5 2.5l-.94 2.06-2.06.94zm10 10l.94 2.06.94-2.06 2.06-.94-2.06-.94-.94-2.06-.94 2.06-2.06.94z\"/><path d=\"M17.41 7.96l-1.37-1.37c-.4-.4-.92-.59-1.43-.59-.52 0-1.04.2-1.43.59L10.3 9.45l-7.72 7.72c-.78.78-.78 2.05 0 2.83L4 21.41c.39.39.9.59 1.41.59.51 0 1.02-.2 1.41-.59l7.78-7.78 2.81-2.81c.8-.78.8-2.07 0-2.86zM5.41 20L4 18.59l7.72-7.72 1.47 1.35L5.41 20z\"/>\n",
              "  </svg>\n",
              "      </button>\n",
              "      \n",
              "  <style>\n",
              "    .colab-df-container {\n",
              "      display:flex;\n",
              "      flex-wrap:wrap;\n",
              "      gap: 12px;\n",
              "    }\n",
              "\n",
              "    .colab-df-convert {\n",
              "      background-color: #E8F0FE;\n",
              "      border: none;\n",
              "      border-radius: 50%;\n",
              "      cursor: pointer;\n",
              "      display: none;\n",
              "      fill: #1967D2;\n",
              "      height: 32px;\n",
              "      padding: 0 0 0 0;\n",
              "      width: 32px;\n",
              "    }\n",
              "\n",
              "    .colab-df-convert:hover {\n",
              "      background-color: #E2EBFA;\n",
              "      box-shadow: 0px 1px 2px rgba(60, 64, 67, 0.3), 0px 1px 3px 1px rgba(60, 64, 67, 0.15);\n",
              "      fill: #174EA6;\n",
              "    }\n",
              "\n",
              "    [theme=dark] .colab-df-convert {\n",
              "      background-color: #3B4455;\n",
              "      fill: #D2E3FC;\n",
              "    }\n",
              "\n",
              "    [theme=dark] .colab-df-convert:hover {\n",
              "      background-color: #434B5C;\n",
              "      box-shadow: 0px 1px 3px 1px rgba(0, 0, 0, 0.15);\n",
              "      filter: drop-shadow(0px 1px 2px rgba(0, 0, 0, 0.3));\n",
              "      fill: #FFFFFF;\n",
              "    }\n",
              "  </style>\n",
              "\n",
              "      <script>\n",
              "        const buttonEl =\n",
              "          document.querySelector('#df-6714c6e4-a40e-478a-b478-3b6dc7d4ec06 button.colab-df-convert');\n",
              "        buttonEl.style.display =\n",
              "          google.colab.kernel.accessAllowed ? 'block' : 'none';\n",
              "\n",
              "        async function convertToInteractive(key) {\n",
              "          const element = document.querySelector('#df-6714c6e4-a40e-478a-b478-3b6dc7d4ec06');\n",
              "          const dataTable =\n",
              "            await google.colab.kernel.invokeFunction('convertToInteractive',\n",
              "                                                     [key], {});\n",
              "          if (!dataTable) return;\n",
              "\n",
              "          const docLinkHtml = 'Like what you see? Visit the ' +\n",
              "            '<a target=\"_blank\" href=https://colab.research.google.com/notebooks/data_table.ipynb>data table notebook</a>'\n",
              "            + ' to learn more about interactive tables.';\n",
              "          element.innerHTML = '';\n",
              "          dataTable['output_type'] = 'display_data';\n",
              "          await google.colab.output.renderOutput(dataTable, element);\n",
              "          const docLink = document.createElement('div');\n",
              "          docLink.innerHTML = docLinkHtml;\n",
              "          element.appendChild(docLink);\n",
              "        }\n",
              "      </script>\n",
              "    </div>\n",
              "  </div>\n",
              "  "
            ]
          },
          "metadata": {},
          "execution_count": 16
        }
      ]
    },
    {
      "cell_type": "markdown",
      "source": [
        "### Visualisation 4\n",
        "#### Share of wheat imported vs supplied domestically"
      ],
      "metadata": {
        "id": "Md5EJu2NIdPO"
      }
    },
    {
      "cell_type": "code",
      "source": [
        "# Data\n",
        "years = wheat_supply_df['Year']\n",
        "raw_data = {'domesticBars': wheat_supply_df['Domestic supply quantity'], 'importBars': wheat_supply_df['Import Quantity']}\n",
        "wheat = pd.DataFrame(raw_data)\n",
        "\n",
        "# From raw value to percentage\n",
        "totals = [i+j for i,j in zip(wheat['domesticBars'], wheat['importBars'])]\n",
        "domesticBars = [i / j * 100 for i,j in zip(wheat['domesticBars'], totals)]\n",
        "importBars = [i / j * 100 for i,j in zip(wheat['importBars'], totals)]\n",
        "\n",
        "# Plot\n",
        "barWidth = 0.85\n",
        "names = ('2010','','2012','','2014','','2016', '','2018', '', '2020')\n",
        "\n",
        "# Create import Bars\n",
        "plt.bar(years, importBars, bottom=domesticBars, color='#4a4e69', edgecolor='white', width=barWidth, label='Import')\n",
        "# Create domestic Bars\n",
        "plt.bar(years, domesticBars, color='#22223b', edgecolor='white', width=barWidth, label='Domestic')\n",
        "\n",
        "# Custom x axis\n",
        "plt.xticks(years, names)\n",
        "\n",
        "# Add title\n",
        "plt.title('Share of wheat supplied domestically vs imported')\n",
        "\n",
        "# Add data source credit\n",
        "plt.figtext(0.9, 0.01,\n",
        "            \"Source of data: FAOSTAT\",\n",
        "            ha=\"right\",\n",
        "            fontsize=10,\n",
        "            color='gray')\n",
        "\n",
        "plt.legend(bbox_to_anchor=(1.1, 1))\n",
        "\n",
        "# Adjust size\n",
        "plt.rcParams[\"figure.figsize\"] = [20,10]\n",
        "\n",
        "# Show graphic\n",
        "plt.show()"
      ],
      "metadata": {
        "colab": {
          "base_uri": "https://localhost:8080/",
          "height": 675
        },
        "id": "DXHiBCptIgEC",
        "outputId": "b9b972b8-8035-46aa-ff58-a650003b0ffb"
      },
      "execution_count": null,
      "outputs": [
        {
          "output_type": "display_data",
          "data": {
            "text/plain": [
              "<Figure size 1440x720 with 1 Axes>"
            ],
            "image/png": "[encoded data removed]"
          },
          "metadata": {
            "needs_background": "light"
          }
        }
      ]
    },
    {
      "cell_type": "markdown",
      "source": [
        "## Where does Malawi import its wheat from?"
      ],
      "metadata": {
        "id": "ZvUeV_IDIiQ5"
      }
    },
    {
      "cell_type": "markdown",
      "source": [
        "### Data cleanup"
      ],
      "metadata": {
        "id": "Btc1XqasIkOp"
      }
    },
    {
      "cell_type": "code",
      "source": [
        "# Cutting down to the most relevant rows\n",
        "trade_df = trade_df[9:25]\n",
        "\n",
        "# Making the first row into the columns\n",
        "trade_df.columns = trade_df.iloc[0]\n",
        "trade_df = trade_df[1:]\n",
        "\n",
        "# Removing the World/Sum row\n",
        "trade_df = trade_df.drop(10)\n",
        "\n",
        "# Fixing the name of the Country name column\n",
        "trade_df.columns = trade_df.columns.fillna(\"Country\")\n"
      ],
      "metadata": {
        "id": "WA6bzsSZImHd"
      },
      "execution_count": null,
      "outputs": []
    },
    {
      "cell_type": "code",
      "source": [
        "# Quantity is exressed as string, change to integer\n",
        "trade_df['Quantity imported in 2020'] = trade_df['Quantity imported in 2020'].astype(int)\n",
        "\n",
        "# Remove the last two rows because their values are 0\n",
        "trade_df=trade_df.drop(trade_df.index[12:14])\n",
        "\n",
        "# Keep only relevant columns\n",
        "trade_df = trade_df[[\"Country\", \"Share in Malawi's imports (%)\", \"Quantity imported in 2020\"]].copy()"
      ],
      "metadata": {
        "id": "YC2pfSNQInyS"
      },
      "execution_count": null,
      "outputs": []
    },
    {
      "cell_type": "code",
      "source": [
        "trade_df = trade_df.rename(columns = {\"Share in Malawi's imports (%)\":'Percentage'})"
      ],
      "metadata": {
        "id": "jPYALfJ_UYFA"
      },
      "execution_count": null,
      "outputs": []
    },
    {
      "cell_type": "markdown",
      "source": [
        "### Visualisation\n",
        "#### Share of wheat imports per country\n"
      ],
      "metadata": {
        "id": "g4iUYAcLIs1E"
      }
    },
    {
      "cell_type": "code",
      "source": [
        "# Data\n",
        "height = trade_df[\"Quantity imported in 2020\"]\n",
        "bars = trade_df['Country']\n",
        "y_pos = np.arange(len(bars))\n",
        "\n",
        "\n",
        "# Create bars\n",
        "bar1=plt.bar(y_pos, height, color = '#4a4e69')\n",
        "\n",
        "\n",
        "# Text showing % above each bar\n",
        "i = 11\n",
        "for p in bar1:\n",
        "    width = p.get_width()\n",
        "    height = p.get_height()\n",
        "    x, y = p.get_xy()\n",
        "    plt.text(x+width/2,\n",
        "             y+height*1.01,\n",
        "             str(trade_df.Percentage[i])+'%',\n",
        "             ha='center',\n",
        "             weight='bold')\n",
        "    i+=1\n",
        "\n",
        "\n",
        "# Create names on the x-axis\n",
        "plt.xticks(y_pos, bars)\n",
        "\n",
        "# Add commas and label to y-axis\n",
        "current_values = plt.gca().get_yticks()\n",
        "plt.gca().set_yticklabels(['{:,.0f}'.format(x) for x in current_values])\n",
        "\n",
        "plt.ylabel(\"Qty (tonnes)\")\n",
        "\n",
        "# add title\n",
        "plt.title('Countries Malawi Imports Wheat From')\n",
        "\n",
        "# add data source credit\n",
        "plt.figtext(0.9, 0.01, \"Source of data: COMTRADE\",\n",
        "            ha=\"right\",\n",
        "            fontsize=10,\n",
        "            color='gray')\n",
        "\n",
        "plt.rcParams[\"figure.figsize\"] = (20,5)\n",
        "\n",
        "# Show graphic\n",
        "plt.show()"
      ],
      "metadata": {
        "colab": {
          "base_uri": "https://localhost:8080/",
          "height": 362
        },
        "id": "g0o_fdZZIpa1",
        "outputId": "a5035a93-a609-41ad-a1df-96b313da9bf3"
      },
      "execution_count": null,
      "outputs": [
        {
          "output_type": "display_data",
          "data": {
            "text/plain": [
              "<Figure size 1440x360 with 1 Axes>"
            ],
            "image/png": "[encoded data removed]"
          },
          "metadata": {
            "needs_background": "light"
          }
        }
      ]
    }
  ]
}